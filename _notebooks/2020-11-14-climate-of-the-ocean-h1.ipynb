{
 "cells": [
  {
   "cell_type": "markdown",
   "metadata": {},
   "source": [
    "# Exercise 1, policy goals under uncertainty\n",
    "\n",
    "> work under progress; bifurcations need to be added\n",
    "\n",
    "- toc: False \n",
    "- badges: true\n",
    "- comments: False\n",
    "- categories: [jupyter]"
   ]
  },
  {
   "cell_type": "markdown",
   "metadata": {},
   "source": [
    "## Exercise 1, policy goals under uncertainty\n",
    "A recent ground-breaking [review paper](https://agupubs.onlinelibrary.wiley.com/doi/10.1029/2019RG000678) produced the most comprehensive and up-to-date estimate of the *climate feedback parameter*, which they find to be\n",
    "\n",
    "$B \\approx \\mathcal{N}(-1.3, 0.4),$\n",
    "\n",
    "i.e. our knowledge of the real value is normally distributed with a mean value $\\overline{B} = -1.3$ W/m²/K and a standard deviation $\\sigma = 0.4$ W/m²/K. These values are not very intuitive, so let us convert them into more policy-relevant numbers.\n",
    "\n",
    "**Definition:** *Equilibrium climate sensitivity (ECS)* is defined as the amount of warming $\\Delta T$ caused by a doubling of CO₂ (e.g. from the pre-industrial value 280 ppm to 560 ppm), at equilibrium.\n",
    "\n",
    "At equilibrium, the energy balance model equation is:\n",
    "\n",
    "$0 = \\frac{S(1 - α)}{4} - (A - BT_{eq}) + a \\ln\\left( \\frac{2\\;\\text{CO}₂_{\\text{PI}}}{\\text{CO}₂_{\\text{PI}}} \\right)$\n",
    "\n",
    "From this, we subtract the preindustrial energy balance, which is given by:\n",
    "\n",
    "$0 = \\frac{S(1-α)}{4} - (A - BT_{0}),$\n",
    "\n",
    "The result of this subtraction, after rearranging, is our definition of $\\text{ECS}$:\n",
    "\n",
    "$\\text{ECS} \\equiv T_{eq} - T_{0} = -\\frac{a\\ln(2)}{B}$"
   ]
  }
 ],
 "metadata": {
  "kernelspec": {
   "display_name": "Python 3",
   "language": "python",
   "name": "python3"
  },
  "language_info": {
   "codemirror_mode": {
    "name": "ipython",
    "version": 3
   },
   "file_extension": ".py",
   "mimetype": "text/x-python",
   "name": "python",
   "nbconvert_exporter": "python",
   "pygments_lexer": "ipython3",
   "version": "3.8.2"
  }
 },
 "nbformat": 4,
 "nbformat_minor": 4
}
