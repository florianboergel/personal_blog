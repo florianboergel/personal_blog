{
 "cells": [
  {
   "cell_type": "markdown",
   "metadata": {},
   "source": [
    "# Red noise\n",
    "> Simple red noise null hypothesis\n",
    "\n",
    "- toc: true \n",
    "- badges: true\n",
    "- comments: true\n",
    "- categories: [jupyter]"
   ]
  },
  {
   "cell_type": "markdown",
   "metadata": {},
   "source": [
    "# Simple red noise null hypothesis"
   ]
  },
  {
   "cell_type": "code",
   "execution_count": 91,
   "metadata": {},
   "outputs": [],
   "source": [
    "#hide_input\n",
    "import numpy as np\n",
    "import matplotlib.pyplot as plt"
   ]
  },
  {
   "cell_type": "code",
   "execution_count": null,
   "metadata": {},
   "outputs": [],
   "source": [
    "c1 = 1\n",
    "c2 = 0.86\n",
    "c3 = 0.01\n",
    "\n",
    "f, ax = plt.subplots(3, figsize = (12,4))\n",
    "ax = ax.ravel()\n",
    "\n",
    "for realisation in range(0,3):\n",
    "    \n",
    "    red_noise_sequence1 = np.zeros((len(white_noise_sequence)))\n",
    "    red_noise_sequence2 = np.zeros((len(white_noise_sequence)))\n",
    "    red_noise_sequence3 = np.zeros((len(white_noise_sequence)))\n",
    "    white_noise_sequence = np.random.normal(0, 1, 1000)\n",
    "\n",
    "    for i in range(1, len(white_noise_sequence)):\n",
    "        \n",
    "        red_noise_sequence1[i] =  c1 * red_noise_sequence1[i-1] + white_noise_sequence[i]\n",
    "        red_noise_sequence2[i] =  c2 * red_noise_sequence2[i-1] + white_noise_sequence[i]\n",
    "        red_noise_sequence3[i] =  c3 * red_noise_sequence3[i-1] + white_noise_sequence[i]\n",
    "\n",
    "        ax[0].plot(red_noise_sequence1) \n",
    "        ax[1].plot(red_noise_sequence2) \n",
    "        ax[2].plot(red_noise_sequence3) "
   ]
  }
 ],
 "metadata": {
  "kernelspec": {
   "display_name": "Python (py3)",
   "language": "python",
   "name": "py3"
  },
  "language_info": {
   "codemirror_mode": {
    "name": "ipython",
    "version": 3
   },
   "file_extension": ".py",
   "mimetype": "text/x-python",
   "name": "python",
   "nbconvert_exporter": "python",
   "pygments_lexer": "ipython3",
   "version": "3.8.2"
  },
  "varInspector": {
   "cols": {
    "lenName": 16,
    "lenType": 16,
    "lenVar": 40
   },
   "kernels_config": {
    "python": {
     "delete_cmd_postfix": "",
     "delete_cmd_prefix": "del ",
     "library": "var_list.py",
     "varRefreshCmd": "print(var_dic_list())"
    },
    "r": {
     "delete_cmd_postfix": ") ",
     "delete_cmd_prefix": "rm(",
     "library": "var_list.r",
     "varRefreshCmd": "cat(var_dic_list()) "
    }
   },
   "types_to_exclude": [
    "module",
    "function",
    "builtin_function_or_method",
    "instance",
    "_Feature"
   ],
   "window_display": false
  }
 },
 "nbformat": 4,
 "nbformat_minor": 4
}
